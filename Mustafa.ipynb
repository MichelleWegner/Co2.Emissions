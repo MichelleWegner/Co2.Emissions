{
 "cells": [
  {
   "cell_type": "code",
   "execution_count": 18,
   "metadata": {},
   "outputs": [
    {
     "name": "stdout",
     "output_type": "stream",
     "text": [
      "{'Turkey'}\n",
      "                       country  year   population country_code   co2_emission\n",
      "0                        Aruba  1960      54608.0          ABW   11092.675000\n",
      "1  Africa Eastern and Southern  1960  130692579.0          AFE  118545.901306\n",
      "2                  Afghanistan  1960    8622466.0          AFG     414.371000\n",
      "3   Africa Western and Central  1960   97256290.0          AFW    8760.463000\n",
      "4                       Angola  1960    5357195.0          AGO     550.050000\n"
     ]
    }
   ],
   "source": [
    "import pandas as pd\n",
    "\n",
    "# Load the datasets\n",
    "df_pop = pd.read_csv('population per country from 1960.csv')\n",
    "df_co2 = pd.read_csv('co2_emissions_kt_by_country.csv')\n",
    "\n",
    "# Reshape the population dataframe from wide to long format\n",
    "df_pop_long = df_pop.melt(id_vars=[\"Country Name\"], var_name=\"year\", value_name=\"population\")\n",
    "\n",
    "# Rename columns to be consistent\n",
    "df_pop_long.rename(columns={\"Country Name\": \"country\"}, inplace=True)\n",
    "\n",
    "# Standardize column names and data types for the CO2 emissions dataframe\n",
    "df_co2.rename(columns={\"country_name\": \"country\", \"value\": \"co2_emission\"}, inplace=True)\n",
    "\n",
    "# Convert year to integer in population dataframe and co2_emission dataframe\n",
    "df_pop_long[\"year\"] = df_pop_long[\"year\"].astype(int)\n",
    "df_co2[\"year\"] = df_co2[\"year\"].astype(int)\n",
    "\n",
    "# Remove duplicates in both dataframes\n",
    "df_pop_long.drop_duplicates(inplace=True)\n",
    "df_co2.drop_duplicates(inplace=True)\n",
    "\n",
    "# Handle missing values by dropping rows with missing values\n",
    "df_pop_long.dropna(inplace=True)\n",
    "df_co2.dropna(inplace=True)\n",
    "\n",
    "# Standardize country names\n",
    "df_pop_long['country'] = df_pop_long['country'].replace({\"Viet Nam\": \"Vietnam\", \"Türkiye\": \"Turkey\"})\n",
    "df_co2['country'] = df_co2['country'].replace({\"Viet Nam\": \"Vietnam\", \"Türkiye\": \"Turkey\"})\n",
    "\n",
    "# Drop rows with regions that are not typically classified as countries\n",
    "non_country_regions = [\n",
    "    'American Samoa', 'Channel Islands', 'Guam', 'Isle of Man', 'Monaco',\n",
    "    'Northern Mariana Islands', 'Puerto Rico', 'San Marino',\n",
    "    'St. Martin (French part)', 'Virgin Islands (U.S.)', 'Not classified'\n",
    "]\n",
    "\n",
    "df_pop_long = df_pop_long[~df_pop_long['country'].isin(non_country_regions)]\n",
    "df_co2 = df_co2[~df_co2['country'].isin(non_country_regions)]\n",
    "\n",
    "# Final check for discrepancies\n",
    "unique_countries_pop = set(df_pop_long['country'].unique())\n",
    "unique_countries_co2 = set(df_co2['country'].unique())\n",
    "\n",
    "# Find remaining discrepancies\n",
    "final_discrepancies = unique_countries_pop.symmetric_difference(unique_countries_co2)\n",
    "\n",
    "# Display final discrepancies (should be empty)\n",
    "print(final_discrepancies)  # Should be empty\n",
    "\n",
    "# Merge the two dataframes on country and year\n",
    "data = pd.merge(df_pop_long, df_co2, on=['country', 'year'], how='inner')\n",
    "\n",
    "# Display the first few rows of the merged dataframe\n",
    "print(data.head())\n",
    "\n",
    "# Save the merged dataframe to a CSV file\n",
    "data.to_csv('merged_population_co2.csv', index=False)"
   ]
  },
  {
   "cell_type": "code",
   "execution_count": 21,
   "metadata": {},
   "outputs": [
    {
     "name": "stdout",
     "output_type": "stream",
     "text": [
      "                           country  year  population   co2_emission\n",
      "0                            Aruba  1960       54608   11092.675000\n",
      "1      Africa Eastern and Southern  1960   130692579  118545.901306\n",
      "2                      Afghanistan  1960     8622466     414.371000\n",
      "3       Africa Western and Central  1960    97256290    8760.463000\n",
      "4                           Angola  1960     5357195     550.050000\n",
      "...                            ...   ...         ...            ...\n",
      "13918                        Samoa  2019      211905     300.000012\n",
      "13919                  Yemen, Rep.  2019    31546691   11100.000381\n",
      "13920                 South Africa  2019    58087055  439640.014648\n",
      "13921                       Zambia  2019    18380477    6800.000191\n",
      "13922                     Zimbabwe  2019    15354608   11760.000229\n",
      "\n",
      "[13923 rows x 4 columns]\n"
     ]
    }
   ],
   "source": [
    "# Step 1: Clean the file by removing NA and duplicated values\n",
    "data_cleaned = data.dropna().drop_duplicates()\n",
    "\n",
    "# Standardize the country names (remove leading/trailing whitespace)\n",
    "data_cleaned['country'] = data_cleaned['country'].str.strip()\n",
    "\n",
    "# Step 2: Remove the '.0' from the end of the population numbers\n",
    "data_cleaned['population'] = data_cleaned['population'].astype(str).str.replace('.0', '', regex=False).astype(int)\n",
    "\n",
    "# Step 3: Drop the country code column\n",
    "data_cleaned = data_cleaned.drop(columns=['country_code'])\n",
    "\n",
    "# Step 4: Ensure correct data types for remaining columns\n",
    "data_cleaned['year'] = data_cleaned['year'].astype(int)\n",
    "data_cleaned['co2_emission'] = data_cleaned['co2_emission'].astype(float)\n",
    "\n",
    "# Optionally, save the cleaned data to a new CSV file\n",
    "data_cleaned.to_csv('cleaned_population_co2.csv', index=False)\n",
    "print(data_cleaned)\n"
   ]
  },
  {
   "cell_type": "code",
   "execution_count": null,
   "metadata": {},
   "outputs": [],
   "source": []
  }
 ],
 "metadata": {
  "kernelspec": {
   "display_name": "myenvpython",
   "language": "python",
   "name": "python3"
  },
  "language_info": {
   "codemirror_mode": {
    "name": "ipython",
    "version": 3
   },
   "file_extension": ".py",
   "mimetype": "text/x-python",
   "name": "python",
   "nbconvert_exporter": "python",
   "pygments_lexer": "ipython3",
   "version": "3.12.4"
  }
 },
 "nbformat": 4,
 "nbformat_minor": 2
}
