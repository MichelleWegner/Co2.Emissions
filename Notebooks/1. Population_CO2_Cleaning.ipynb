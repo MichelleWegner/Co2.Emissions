{
 "cells": [
  {
   "cell_type": "code",
   "execution_count": 1,
   "metadata": {},
   "outputs": [],
   "source": [
    "#set the columns name to lower case, strip and replace empty spaces\n",
    "def column_names(df_name):\n",
    "    new_column_names = [column.strip().lower().replace(\" \", \"_\") for column in df_name.columns]\n",
    "    df_name.columns = new_column_names\n",
    "\n",
    "#change the name of a column\n",
    "def change_column_name(df, old_name, new_name):\n",
    "    df.rename(columns={old_name: new_name}, inplace=True)\n",
    "    return df \n",
    "\n",
    "#drop one column\n",
    "def drop_column(df, column):\n",
    "    df = df.drop(column,axis='columns')\n",
    "    return df\n",
    "#drop one row by the index\n",
    "def drop_row_index(df, df_index):\n",
    "    df = df.drop(index=df_index)\n",
    "    return df\n",
    "#change to numeric \n",
    "def to_numeric(df, columns_to_proces):\n",
    "    for column in columns_to_proces: \n",
    "        df[column] = pd.to_numeric(df[column], errors='coerce')\n"
   ]
  },
  {
   "cell_type": "markdown",
   "metadata": {},
   "source": [
    "# 1. Cleaning-Data"
   ]
  },
  {
   "cell_type": "code",
   "execution_count": 2,
   "metadata": {},
   "outputs": [],
   "source": [
    "# Import pandas\n",
    "import pandas as pd\n",
    "#from functions import column_names"
   ]
  },
  {
   "cell_type": "code",
   "execution_count": 3,
   "metadata": {},
   "outputs": [],
   "source": [
    "# Load the datasets\n",
    "df_pop = pd.read_csv('../Data/Raw data/1. population per country from 1960.csv')\n",
    "df_co2 = pd.read_csv('../Data/Raw data/1. co2_emissions_kt_by_country.csv')"
   ]
  },
  {
   "cell_type": "code",
   "execution_count": 4,
   "metadata": {},
   "outputs": [],
   "source": [
    "# Reshape the population dataframe from wide to long format\n",
    "df_pop = df_pop.melt(id_vars=[\"Country Name\"], var_name=\"year\", value_name=\"population\")"
   ]
  },
  {
   "cell_type": "markdown",
   "metadata": {},
   "source": [
    "## Correct the column names"
   ]
  },
  {
   "cell_type": "code",
   "execution_count": 5,
   "metadata": {},
   "outputs": [],
   "source": [
    "# setting the columns names to lower case and eliminating empty spaces\n",
    "df_pop.column = column_names(df_pop)\n",
    "df_co2.column = column_names(df_co2)\n",
    "# Change the country_name to countries so we can merge there\n",
    "old_name = \"country_name\"\n",
    "new_name = \"country\"\n",
    "df_pop = change_column_name(df_pop, old_name, new_name)\n",
    "df_co2 = change_column_name(df_co2, old_name, new_name)\n",
    "# Rename columns names to be consistent\n",
    "old_name1 = \"value\"\n",
    "new_name1 = \"co2_emission\"\n",
    "df_co2 = change_column_name(df_co2, old_name1, new_name1)"
   ]
  },
  {
   "cell_type": "markdown",
   "metadata": {},
   "source": [
    "# Drop the columns we won't use"
   ]
  },
  {
   "cell_type": "code",
   "execution_count": 6,
   "metadata": {},
   "outputs": [],
   "source": [
    "column_to_drop = ['country_code']\n",
    "df_co2 = drop_column(df_co2, column_to_drop)"
   ]
  },
  {
   "cell_type": "markdown",
   "metadata": {},
   "source": [
    "## 1.1 Null-Values"
   ]
  },
  {
   "cell_type": "markdown",
   "metadata": {},
   "source": [
    "### Cleaning Null Values\n",
    "#### 1. Checking for Null Values:"
   ]
  },
  {
   "cell_type": "code",
   "execution_count": 7,
   "metadata": {},
   "outputs": [
    {
     "data": {
      "text/plain": [
       "country       False\n",
       "year          False\n",
       "population    False\n",
       "dtype: bool"
      ]
     },
     "execution_count": 7,
     "metadata": {},
     "output_type": "execute_result"
    }
   ],
   "source": [
    "df_pop.isnull().any()"
   ]
  },
  {
   "cell_type": "code",
   "execution_count": 8,
   "metadata": {},
   "outputs": [
    {
     "data": {
      "text/plain": [
       "country         False\n",
       "year            False\n",
       "co2_emission    False\n",
       "dtype: bool"
      ]
     },
     "execution_count": 8,
     "metadata": {},
     "output_type": "execute_result"
    }
   ],
   "source": [
    "df_co2.isnull().any()"
   ]
  },
  {
   "cell_type": "markdown",
   "metadata": {},
   "source": [
    "### Check for NaN values"
   ]
  },
  {
   "cell_type": "code",
   "execution_count": 9,
   "metadata": {},
   "outputs": [
    {
     "data": {
      "text/plain": [
       "country       False\n",
       "year          False\n",
       "population    False\n",
       "dtype: bool"
      ]
     },
     "execution_count": 9,
     "metadata": {},
     "output_type": "execute_result"
    }
   ],
   "source": [
    "#check if this is ok\n",
    "df_pop.isnull().any()"
   ]
  },
  {
   "cell_type": "code",
   "execution_count": 10,
   "metadata": {},
   "outputs": [
    {
     "data": {
      "text/plain": [
       "country         False\n",
       "year            False\n",
       "co2_emission    False\n",
       "dtype: bool"
      ]
     },
     "execution_count": 10,
     "metadata": {},
     "output_type": "execute_result"
    }
   ],
   "source": [
    "df_co2.isnull().any()"
   ]
  },
  {
   "cell_type": "markdown",
   "metadata": {},
   "source": [
    "### Drop duplicates"
   ]
  },
  {
   "cell_type": "code",
   "execution_count": 11,
   "metadata": {},
   "outputs": [
    {
     "name": "stdout",
     "output_type": "stream",
     "text": [
      "<class 'pandas.core.frame.DataFrame'>\n",
      "RangeIndex: 16758 entries, 0 to 16757\n",
      "Data columns (total 3 columns):\n",
      " #   Column      Non-Null Count  Dtype  \n",
      "---  ------      --------------  -----  \n",
      " 0   country     16758 non-null  object \n",
      " 1   year        16758 non-null  object \n",
      " 2   population  16758 non-null  float64\n",
      "dtypes: float64(1), object(2)\n",
      "memory usage: 392.9+ KB\n"
     ]
    }
   ],
   "source": [
    "df_pop.info()"
   ]
  },
  {
   "cell_type": "code",
   "execution_count": 24,
   "metadata": {},
   "outputs": [],
   "source": [
    "df_pop = df_pop.drop_duplicates()"
   ]
  },
  {
   "cell_type": "code",
   "execution_count": 13,
   "metadata": {},
   "outputs": [
    {
     "name": "stdout",
     "output_type": "stream",
     "text": [
      "<class 'pandas.core.frame.DataFrame'>\n",
      "RangeIndex: 13953 entries, 0 to 13952\n",
      "Data columns (total 3 columns):\n",
      " #   Column        Non-Null Count  Dtype  \n",
      "---  ------        --------------  -----  \n",
      " 0   country       13953 non-null  object \n",
      " 1   year          13953 non-null  int64  \n",
      " 2   co2_emission  13953 non-null  float64\n",
      "dtypes: float64(1), int64(1), object(1)\n",
      "memory usage: 327.2+ KB\n"
     ]
    }
   ],
   "source": [
    "df_co2.info()"
   ]
  },
  {
   "cell_type": "code",
   "execution_count": 26,
   "metadata": {},
   "outputs": [],
   "source": [
    "df_co2 = df_co2.drop_duplicates()"
   ]
  },
  {
   "cell_type": "markdown",
   "metadata": {},
   "source": [
    "## Change the data types"
   ]
  },
  {
   "cell_type": "code",
   "execution_count": 15,
   "metadata": {},
   "outputs": [
    {
     "data": {
      "text/plain": [
       "country        object\n",
       "year           object\n",
       "population    float64\n",
       "dtype: object"
      ]
     },
     "execution_count": 15,
     "metadata": {},
     "output_type": "execute_result"
    }
   ],
   "source": [
    "#examine the current data types\n",
    "df_pop.dtypes"
   ]
  },
  {
   "cell_type": "code",
   "execution_count": 16,
   "metadata": {},
   "outputs": [
    {
     "data": {
      "text/plain": [
       "country          object\n",
       "year              int64\n",
       "co2_emission    float64\n",
       "dtype: object"
      ]
     },
     "execution_count": 16,
     "metadata": {},
     "output_type": "execute_result"
    }
   ],
   "source": [
    "#examine the current data types\n",
    "df_co2.dtypes"
   ]
  },
  {
   "cell_type": "code",
   "execution_count": 22,
   "metadata": {},
   "outputs": [],
   "source": [
    "#change the data type to numeric values\n",
    "pop_columns_to_proces = ['year','population']\n",
    "to_numeric(df_pop, pop_columns_to_proces)\n",
    "\n",
    "co2_columns_to_proces = ['year','co2_emission']\n",
    "to_numeric(df_co2, co2_columns_to_proces)"
   ]
  },
  {
   "cell_type": "markdown",
   "metadata": {},
   "source": [
    "## Standardize country names"
   ]
  },
  {
   "cell_type": "code",
   "execution_count": 31,
   "metadata": {},
   "outputs": [],
   "source": [
    "country_name_mapping =  {\n",
    "    'Afghanistan' : 'Afghanistan',\n",
    "    'Afghanistan' : 'Afghanistan',\n",
    "    \"Islamic Rep. of', Albania\" : 'Albania',\n",
    "    'Algeria' : 'Algeria',\n",
    "    'Andorra' : 'Andorra',\n",
    "    'Andorra, Principality of': 'Andorra',\n",
    "    'Angola' : 'Angola',\n",
    "    'Antigua and Barbuda' : 'Antigua and Barbuda',\n",
    "    'Argentina' : 'Argentina' ,\n",
    "    'Armenia' : 'Armenia',\n",
    "    'Armenia, Rep. of' : 'Armenia',\n",
    "    'Aruba, Kingdom of the Netherlands' :'Aruba',\n",
    "    'Australia' : 'Australia',\n",
    "    'Austria' : 'Austria',\n",
    "    'Azerbaijan' : 'Azerbaijan',\n",
    "    'Azerbaijan, Rep. of' : 'Azerbaijan',\n",
    "    'Bahamas, The' : 'Bahamas',\n",
    "    'Bahamas, The' : 'Bahamas',\n",
    "    'Bahrain' : 'Bahrain',\n",
    "    'Bahrain, Kingdom of' : 'Bahrain',\n",
    "    'Bangladesh' : 'Bangladesh',\n",
    "    'Barbados' : 'Barbados',\n",
    "    'Barbados' : 'Barbados',\n",
    "    'Belarus' : 'Belarus',\n",
    "    'Belarus, Rep. of' : 'Belarus',\n",
    "    'Belgium' : 'Belgium',\n",
    "    'Belize' :'Belize',\n",
    "    'Benin' : 'Benin',\n",
    "    'Bhutan' : 'Bhutan',\n",
    "    'Bolivia' : 'Bolivia',\n",
    "    'Bosnia and Herzegovina' : 'Bosnia and Herzegovina',\n",
    "    'Botswana' : 'Botswana',\n",
    "    'Brazil' : 'Brazil',\n",
    "    'British Virgin Islands' : 'British Virgin Islands',\n",
    "    'Central African Republic' :'Central African Republic',\n",
    "    'Central African Rep.' : 'Central African Republic',\n",
    "    'Comoros' : 'Comoros',\n",
    "    'Comoros, Union of the' : 'Comoros',\n",
    "    'Congo, Rep.' : 'Congo, Rep.',\n",
    "    'Congo, Rep. of' : 'Congo, Rep.',\n",
    "    'Croatia, Rep. of' : 'Croatia',\n",
    "    'Dominican Republic' : 'Dominican Rep.',\n",
    "    'Egypt, Arab Rep.' : 'Egypt, Arab Rep. of',\n",
    "    'Equatorial Guinea, Rep. of' : 'Equatorial Guinea',\n",
    "    'Eritrea, The State of' : 'Eritrea',\n",
    "    'Estonia, Rep. of' : 'Estonia',\n",
    "    'Eswatini, Kingdom of' : 'Eswatini',\n",
    "    'Ethiopia, The Federal Dem. Rep. of' : 'Ethiopia',\n",
    "    'Fiji, Rep. of' : 'Fiji',\n",
    "    'Kazakhstan, Rep. of' : 'Kazakhstan',\n",
    "    \"Korea, Dem. People's Rep. of\" :\"Korea, Dem. People's Rep.\",\n",
    "    'Korea, Rep. of' : 'Korea, Rep.',\n",
    "    'Kyrgyz Republic' : 'Kyrgyz Rep.',\n",
    "    \"Lao People's Dem. Rep.\" : 'Lao PDR',\n",
    "    'Lesotho, Kingdom of' : 'Lesotho',\n",
    "    'Marshall Islands, Rep. of the' : 'Marshall Islands',\n",
    "    'Mauritania, Islamic Rep. of' : 'Mauritania',\n",
    "    'Micronesia, Federated States of' : 'Micronesia',\n",
    "    'Micronesia, Fed. Sts.' : 'Micronesia',\n",
    "    'Moldova, Rep. of' : 'Moldova',\n",
    "    'Mozambique, Rep. of' : 'Mozambique',\n",
    "    'Nauru, Rep. of' : 'Nauru',\n",
    "    'Netherlands, The' : 'Netherlands',\n",
    "    'North Macedonia, Republic of' : 'North Macedonia',\n",
    "    'Palau, Rep. of' : 'Palau',\n",
    "    'Poland, Rep. of' : 'Poland',\n",
    "    'Serbia, Rep. of' : 'Serbia',\n",
    "    'Slovak Rep.': 'Slovak',\n",
    "    'South Sudan, Rep. of' : 'South Sudan',\n",
    "    'Syrian Arab Republic' : 'Syrian Arab Rep',\n",
    "    'Tajikistan, Rep. of' : 'Tajikistan',\n",
    "    'Tanzania, United Rep. of' : 'Tanzania',\n",
    "    'Timor-Leste, Dem. Rep. of' : 'Timor-Leste',\n",
    "    'Turkiye' : 'Turkey',\n",
    "    \"Viet Nam\": \"Vietnam\", \n",
    "    \"Türkiye\": \"Turkey\",\n",
    "    'Uzbekistan, Rep. of' : 'Uzbekistan',\n",
    "    'Venezuela, Rep. Bolivariana de' : 'Venezuela',\n",
    "    'West Bank and Gaza' : 'Palestine',\n",
    "    'Yemen, Rep. of' : 'Yemen, Rep.',\n",
    "    }"
   ]
  },
  {
   "cell_type": "code",
   "execution_count": 32,
   "metadata": {},
   "outputs": [],
   "source": [
    "df_pop['country'] = df_pop['country'].replace(country_name_mapping)\n",
    "df_co2['country'] = df_co2['country'].replace(country_name_mapping)"
   ]
  },
  {
   "cell_type": "code",
   "execution_count": null,
   "metadata": {},
   "outputs": [
    {
     "ename": "NameError",
     "evalue": "name 'df_pop_long' is not defined",
     "output_type": "error",
     "traceback": [
      "\u001b[0;31m---------------------------------------------------------------------------\u001b[0m",
      "\u001b[0;31mNameError\u001b[0m                                 Traceback (most recent call last)",
      "Cell \u001b[0;32mIn[71], line 5\u001b[0m\n\u001b[1;32m      2\u001b[0m df_co2\u001b[38;5;241m.\u001b[39mrename(columns\u001b[38;5;241m=\u001b[39m{}, inplace\u001b[38;5;241m=\u001b[39m\u001b[38;5;28;01mTrue\u001b[39;00m)\n\u001b[1;32m      4\u001b[0m \u001b[38;5;66;03m# Convert year to integer in population dataframe and co2_emission dataframe\u001b[39;00m\n\u001b[0;32m----> 5\u001b[0m df_pop_long[\u001b[38;5;124m\"\u001b[39m\u001b[38;5;124myear\u001b[39m\u001b[38;5;124m\"\u001b[39m] \u001b[38;5;241m=\u001b[39m df_pop_long[\u001b[38;5;124m\"\u001b[39m\u001b[38;5;124myear\u001b[39m\u001b[38;5;124m\"\u001b[39m]\u001b[38;5;241m.\u001b[39mastype(\u001b[38;5;28mint\u001b[39m)\n\u001b[1;32m      6\u001b[0m df_co2[\u001b[38;5;124m\"\u001b[39m\u001b[38;5;124myear\u001b[39m\u001b[38;5;124m\"\u001b[39m] \u001b[38;5;241m=\u001b[39m df_co2[\u001b[38;5;124m\"\u001b[39m\u001b[38;5;124myear\u001b[39m\u001b[38;5;124m\"\u001b[39m]\u001b[38;5;241m.\u001b[39mastype(\u001b[38;5;28mint\u001b[39m)\n\u001b[1;32m      8\u001b[0m \u001b[38;5;66;03m# Remove duplicates in both dataframes\u001b[39;00m\n",
      "\u001b[0;31mNameError\u001b[0m: name 'df_pop_long' is not defined"
     ]
    }
   ],
   "source": [
    "\n",
    "\n",
    "# Standardize country names\n",
    "df_pop['country'] = df_['country'].replace({\"Viet Nam\": \"Vietnam\", \"Türkiye\": \"Turkey\"})\n",
    "df_co2['country'] = df_co2['country'].replace({\"Viet Nam\": \"Vietnam\", \"Türkiye\": \"Turkey\"})\n",
    "\n",
    "# Drop rows with regions that are not typically classified as countries\n",
    "non_country_regions = [\n",
    "    'American Samoa', 'Channel Islands', 'Guam', 'Isle of Man', 'Monaco',\n",
    "    'Northern Mariana Islands', 'Puerto Rico', 'San Marino',\n",
    "    'St. Martin (French part)', 'Virgin Islands (U.S.)', 'Not classified'\n",
    "]\n",
    "\n",
    "df_pop_long = df_pop_long[~df_pop_long['country'].isin(non_country_regions)]\n",
    "df_co2 = df_co2[~df_co2['country'].isin(non_country_regions)]\n",
    "\n",
    "# Final check for discrepancies\n",
    "unique_countries_pop = set(df_pop_long['country'].unique())\n",
    "unique_countries_co2 = set(df_co2['country'].unique())\n",
    "\n",
    "# Find remaining discrepancies\n",
    "final_discrepancies = unique_countries_pop.symmetric_difference(unique_countries_co2)\n",
    "\n",
    "# Display final discrepancies (should be empty)\n",
    "print(final_discrepancies)  # Should be empty\n",
    "\n",
    "# Merge the two dataframes on country and year\n",
    "data = pd.merge(df_pop_long, df_co2, on=['country', 'year'], how='inner')\n",
    "\n",
    "# Display the first few rows of the merged dataframe\n",
    "print(data.head())\n",
    "\n",
    "# Save the merged dataframe to a CSV file\n",
    "data.to_csv('merged_population_co2.csv', index=False)"
   ]
  },
  {
   "cell_type": "code",
   "execution_count": null,
   "metadata": {},
   "outputs": [
    {
     "name": "stdout",
     "output_type": "stream",
     "text": [
      "                           country  year  population   co2_emission\n",
      "0                            Aruba  1960       54608   11092.675000\n",
      "1      Africa Eastern and Southern  1960   130692579  118545.901306\n",
      "2                      Afghanistan  1960     8622466     414.371000\n",
      "3       Africa Western and Central  1960    97256290    8760.463000\n",
      "4                           Angola  1960     5357195     550.050000\n",
      "...                            ...   ...         ...            ...\n",
      "13918                        Samoa  2019      211905     300.000012\n",
      "13919                  Yemen, Rep.  2019    31546691   11100.000381\n",
      "13920                 South Africa  2019    58087055  439640.014648\n",
      "13921                       Zambia  2019    18380477    6800.000191\n",
      "13922                     Zimbabwe  2019    15354608   11760.000229\n",
      "\n",
      "[13923 rows x 4 columns]\n"
     ]
    }
   ],
   "source": [
    "# Step 1: Clean the file by removing NA and duplicated values\n",
    "data_cleaned = data.dropna().drop_duplicates()\n",
    "\n",
    "# Standardize the country names (remove leading/trailing whitespace)\n",
    "data_cleaned['country'] = data_cleaned['country'].str.strip()\n",
    "\n",
    "# Step 2: Remove the '.0' from the end of the population numbers\n",
    "data_cleaned['population'] = data_cleaned['population'].astype(str).str.replace('.0', '', regex=False).astype(int)\n",
    "\n",
    "# Step 3: Drop the country code column\n",
    "data_cleaned = data_cleaned.drop(columns=['country_code'])\n",
    "\n",
    "# Step 4: Ensure correct data types for remaining columns\n",
    "data_cleaned['year'] = data_cleaned['year'].astype(int)\n",
    "data_cleaned['co2_emission'] = data_cleaned['co2_emission'].astype(float)\n",
    "\n",
    "# Optionally, save the cleaned data to a new CSV file\n",
    "data_cleaned.to_csv('cleaned_population_co2.csv', index=False)\n",
    "print(data_cleaned)\n"
   ]
  },
  {
   "cell_type": "code",
   "execution_count": null,
   "metadata": {},
   "outputs": [],
   "source": []
  }
 ],
 "metadata": {
  "kernelspec": {
   "display_name": "myenvpython",
   "language": "python",
   "name": "python3"
  },
  "language_info": {
   "codemirror_mode": {
    "name": "ipython",
    "version": 3
   },
   "file_extension": ".py",
   "mimetype": "text/x-python",
   "name": "python",
   "nbconvert_exporter": "python",
   "pygments_lexer": "ipython3",
   "version": "3.11.7"
  }
 },
 "nbformat": 4,
 "nbformat_minor": 2
}
