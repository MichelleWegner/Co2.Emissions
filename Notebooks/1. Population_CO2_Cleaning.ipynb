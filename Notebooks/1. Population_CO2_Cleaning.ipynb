{
 "cells": [
  {
   "cell_type": "code",
   "execution_count": 1,
   "metadata": {},
   "outputs": [],
   "source": [
    "#set the columns name to lower case, strip and replace empty spaces\n",
    "def column_names(df_name):\n",
    "    new_column_names = [column.strip().lower().replace(\" \", \"_\") for column in df_name.columns]\n",
    "    df_name.columns = new_column_names\n",
    "\n",
    "#change the name of a column\n",
    "def change_column_name(df, old_name, new_name):\n",
    "    df.rename(columns={old_name: new_name}, inplace=True)\n",
    "    return df \n",
    "\n",
    "#drop one column\n",
    "def drop_column(df, column):\n",
    "    df = df.drop(column,axis='columns')\n",
    "    return df\n",
    "#drop one row by the index\n",
    "def drop_row_index(df, df_index):\n",
    "    df = df.drop(index=df_index)\n",
    "    return df\n",
    "#change to numeric \n",
    "def to_numeric(df, columns_to_proces):\n",
    "    for column in columns_to_proces: \n",
    "        df[column] = pd.to_numeric(df[column], errors='coerce')\n"
   ]
  },
  {
   "cell_type": "markdown",
   "metadata": {},
   "source": [
    "# 1. Cleaning-Data"
   ]
  },
  {
   "cell_type": "code",
   "execution_count": 2,
   "metadata": {},
   "outputs": [],
   "source": [
    "# Import pandas\n",
    "import pandas as pd\n",
    "#from functions import column_names"
   ]
  },
  {
   "cell_type": "code",
   "execution_count": 3,
   "metadata": {},
   "outputs": [],
   "source": [
    "# Load the datasets\n",
    "df_pop = pd.read_csv('../Data/Raw data/1. population per country from 1960.csv')\n",
    "df_co2 = pd.read_csv('../Data/Raw data/1. co2_emissions_kt_by_country.csv')"
   ]
  },
  {
   "cell_type": "code",
   "execution_count": 4,
   "metadata": {},
   "outputs": [],
   "source": [
    "# Reshape the population dataframe from wide to long format\n",
    "df_pop = df_pop.melt(id_vars=[\"Country Name\"], var_name=\"year\", value_name=\"population\")"
   ]
  },
  {
   "cell_type": "markdown",
   "metadata": {},
   "source": [
    "# Correct the column names"
   ]
  },
  {
   "cell_type": "code",
   "execution_count": 5,
   "metadata": {},
   "outputs": [],
   "source": [
    "# setting the columns names to lower case and eliminating empty spaces\n",
    "df_pop.column = column_names(df_pop)\n",
    "df_co2.column = column_names(df_co2)\n",
    "# Change the country_name to countries so we can merge there\n",
    "old_name = \"country_name\"\n",
    "new_name = \"country\"\n",
    "df_pop = change_column_name(df_pop, old_name, new_name)\n",
    "df_co2 = change_column_name(df_co2, old_name, new_name)\n",
    "# Rename columns names to be consistent\n",
    "old_name1 = \"value\"\n",
    "new_name1 = \"co2_emission\"\n",
    "df_co2 = change_column_name(df_co2, old_name1, new_name1)"
   ]
  },
  {
   "cell_type": "markdown",
   "metadata": {},
   "source": [
    "# Drop the columns we won't use"
   ]
  },
  {
   "cell_type": "code",
   "execution_count": 6,
   "metadata": {},
   "outputs": [],
   "source": [
    "column_to_drop = ['country_code']\n",
    "df_co2 = drop_column(df_co2, column_to_drop)"
   ]
  },
  {
   "cell_type": "markdown",
   "metadata": {},
   "source": [
    "# 1.1 Null_NaN-Values"
   ]
  },
  {
   "cell_type": "markdown",
   "metadata": {},
   "source": [
    "### Cleaning Null Values"
   ]
  },
  {
   "cell_type": "code",
   "execution_count": 7,
   "metadata": {},
   "outputs": [
    {
     "data": {
      "text/plain": [
       "country       False\n",
       "year          False\n",
       "population    False\n",
       "dtype: bool"
      ]
     },
     "execution_count": 7,
     "metadata": {},
     "output_type": "execute_result"
    }
   ],
   "source": [
    "df_pop.isnull().any()"
   ]
  },
  {
   "cell_type": "code",
   "execution_count": 8,
   "metadata": {},
   "outputs": [
    {
     "data": {
      "text/plain": [
       "country         False\n",
       "year            False\n",
       "co2_emission    False\n",
       "dtype: bool"
      ]
     },
     "execution_count": 8,
     "metadata": {},
     "output_type": "execute_result"
    }
   ],
   "source": [
    "df_co2.isnull().any()"
   ]
  },
  {
   "cell_type": "markdown",
   "metadata": {},
   "source": [
    "### Check for NaN values"
   ]
  },
  {
   "cell_type": "code",
   "execution_count": 9,
   "metadata": {},
   "outputs": [
    {
     "data": {
      "text/plain": [
       "country       False\n",
       "year          False\n",
       "population    False\n",
       "dtype: bool"
      ]
     },
     "execution_count": 9,
     "metadata": {},
     "output_type": "execute_result"
    }
   ],
   "source": [
    "#check if this is ok\n",
    "df_pop.isnull().any()"
   ]
  },
  {
   "cell_type": "code",
   "execution_count": 10,
   "metadata": {},
   "outputs": [
    {
     "data": {
      "text/plain": [
       "country         False\n",
       "year            False\n",
       "co2_emission    False\n",
       "dtype: bool"
      ]
     },
     "execution_count": 10,
     "metadata": {},
     "output_type": "execute_result"
    }
   ],
   "source": [
    "df_co2.isnull().any()"
   ]
  },
  {
   "cell_type": "markdown",
   "metadata": {},
   "source": [
    "### Drop duplicates"
   ]
  },
  {
   "cell_type": "code",
   "execution_count": 11,
   "metadata": {},
   "outputs": [
    {
     "name": "stdout",
     "output_type": "stream",
     "text": [
      "<class 'pandas.core.frame.DataFrame'>\n",
      "RangeIndex: 16758 entries, 0 to 16757\n",
      "Data columns (total 3 columns):\n",
      " #   Column      Non-Null Count  Dtype  \n",
      "---  ------      --------------  -----  \n",
      " 0   country     16758 non-null  object \n",
      " 1   year        16758 non-null  object \n",
      " 2   population  16758 non-null  float64\n",
      "dtypes: float64(1), object(2)\n",
      "memory usage: 392.9+ KB\n"
     ]
    }
   ],
   "source": [
    "df_pop.info()"
   ]
  },
  {
   "cell_type": "code",
   "execution_count": 12,
   "metadata": {},
   "outputs": [],
   "source": [
    "df_pop = df_pop.drop_duplicates()"
   ]
  },
  {
   "cell_type": "code",
   "execution_count": 13,
   "metadata": {},
   "outputs": [
    {
     "name": "stdout",
     "output_type": "stream",
     "text": [
      "<class 'pandas.core.frame.DataFrame'>\n",
      "RangeIndex: 13953 entries, 0 to 13952\n",
      "Data columns (total 3 columns):\n",
      " #   Column        Non-Null Count  Dtype  \n",
      "---  ------        --------------  -----  \n",
      " 0   country       13953 non-null  object \n",
      " 1   year          13953 non-null  int64  \n",
      " 2   co2_emission  13953 non-null  float64\n",
      "dtypes: float64(1), int64(1), object(1)\n",
      "memory usage: 327.2+ KB\n"
     ]
    }
   ],
   "source": [
    "df_co2.info()"
   ]
  },
  {
   "cell_type": "code",
   "execution_count": 14,
   "metadata": {},
   "outputs": [],
   "source": [
    "df_co2 = df_co2.drop_duplicates()"
   ]
  },
  {
   "cell_type": "markdown",
   "metadata": {},
   "source": [
    "## Change the data types"
   ]
  },
  {
   "cell_type": "code",
   "execution_count": 15,
   "metadata": {},
   "outputs": [
    {
     "data": {
      "text/plain": [
       "country        object\n",
       "year           object\n",
       "population    float64\n",
       "dtype: object"
      ]
     },
     "execution_count": 15,
     "metadata": {},
     "output_type": "execute_result"
    }
   ],
   "source": [
    "#examine the current data types\n",
    "df_pop.dtypes"
   ]
  },
  {
   "cell_type": "code",
   "execution_count": 16,
   "metadata": {},
   "outputs": [
    {
     "data": {
      "text/plain": [
       "country          object\n",
       "year              int64\n",
       "co2_emission    float64\n",
       "dtype: object"
      ]
     },
     "execution_count": 16,
     "metadata": {},
     "output_type": "execute_result"
    }
   ],
   "source": [
    "#examine the current data types\n",
    "df_co2.dtypes"
   ]
  },
  {
   "cell_type": "code",
   "execution_count": 17,
   "metadata": {},
   "outputs": [],
   "source": [
    "#change the data type to numeric values\n",
    "pop_columns_to_proces = ['year','population']\n",
    "to_numeric(df_pop, pop_columns_to_proces)\n",
    "\n",
    "co2_columns_to_proces = ['year','co2_emission']\n",
    "to_numeric(df_co2, co2_columns_to_proces)"
   ]
  },
  {
   "cell_type": "markdown",
   "metadata": {},
   "source": [
    "## Standardize country names"
   ]
  },
  {
   "cell_type": "code",
   "execution_count": 18,
   "metadata": {},
   "outputs": [],
   "source": [
    "country_name_mapping =  {\n",
    "    'Afghanistan' : 'Afghanistan',\n",
    "    'Afghanistan' : 'Afghanistan',\n",
    "    \"Islamic Rep. of', Albania\" : 'Albania',\n",
    "    'Algeria' : 'Algeria',\n",
    "    'American Samoa' :  'American Samoa', \n",
    "    'Andorra' : 'Andorra',\n",
    "    'Andorra, Principality of': 'Andorra',\n",
    "    'Angola' : 'Angola',\n",
    "    'Antigua and Barbuda' : 'Antigua and Barbuda',\n",
    "    'Argentina' : 'Argentina' ,\n",
    "    'Armenia' : 'Armenia',\n",
    "    'Armenia, Rep. of' : 'Armenia',\n",
    "    'Aruba, Kingdom of the Netherlands' :'Aruba',\n",
    "    'Australia' : 'Australia',\n",
    "    'Austria' : 'Austria',\n",
    "    'Azerbaijan' : 'Azerbaijan',\n",
    "    'Azerbaijan, Rep. of' : 'Azerbaijan',\n",
    "    'Bahamas, The' : 'Bahamas',\n",
    "    'Bahamas, The' : 'Bahamas',\n",
    "    'Bahrain' : 'Bahrain',\n",
    "    'Bahrain, Kingdom of' : 'Bahrain',\n",
    "    'Bangladesh' : 'Bangladesh',\n",
    "    'Barbados' : 'Barbados',\n",
    "    'Barbados' : 'Barbados',\n",
    "    'Belarus' : 'Belarus',\n",
    "    'Belarus, Rep. of' : 'Belarus',\n",
    "    'Belgium' : 'Belgium',\n",
    "    'Belize' :'Belize',\n",
    "    'Benin' : 'Benin',\n",
    "    'Bhutan' : 'Bhutan',\n",
    "    'Bolivia' : 'Bolivia',\n",
    "    'Bosnia and Herzegovina' : 'Bosnia and Herzegovina',\n",
    "    'Botswana' : 'Botswana',\n",
    "    'Brazil' : 'Brazil',\n",
    "    'British Virgin Islands' : 'British Virgin Islands',\n",
    "    'Central African Republic' :'Central African Republic',\n",
    "    'Central African Rep.' : 'Central African Republic',\n",
    "    'Comoros' : 'Comoros',\n",
    "    'Comoros, Union of the' : 'Comoros',\n",
    "    'Congo, Rep.' : 'Congo, Rep.',\n",
    "    'Congo, Rep. of' : 'Congo, Rep.',\n",
    "    'Croatia, Rep. of' : 'Croatia',\n",
    "    'Dominican Republic' : 'Dominican Rep.',\n",
    "    'Egypt, Arab Rep.' : 'Egypt, Arab Rep. of',\n",
    "    'Equatorial Guinea, Rep. of' : 'Equatorial Guinea',\n",
    "    'Eritrea, The State of' : 'Eritrea',\n",
    "    'Estonia, Rep. of' : 'Estonia',\n",
    "    'Eswatini, Kingdom of' : 'Eswatini',\n",
    "    'Ethiopia, The Federal Dem. Rep. of' : 'Ethiopia',\n",
    "    'Fiji, Rep. of' : 'Fiji',\n",
    "    'Kazakhstan, Rep. of' : 'Kazakhstan',\n",
    "    \"Korea, Dem. People's Rep. of\" :\"Korea, Dem. People's Rep.\",\n",
    "    'Korea, Rep. of' : 'Korea, Rep.',\n",
    "    'Kyrgyz Republic' : 'Kyrgyz Rep.',\n",
    "    \"Lao People's Dem. Rep.\" : 'Lao PDR',\n",
    "    'Lesotho, Kingdom of' : 'Lesotho',\n",
    "    'Marshall Islands, Rep. of the' : 'Marshall Islands',\n",
    "    'Mauritania, Islamic Rep. of' : 'Mauritania',\n",
    "    'Micronesia, Federated States of' : 'Micronesia',\n",
    "    'Micronesia, Fed. Sts.' : 'Micronesia',\n",
    "    'Moldova, Rep. of' : 'Moldova',\n",
    "    'Mozambique, Rep. of' : 'Mozambique',\n",
    "    'Nauru, Rep. of' : 'Nauru',\n",
    "    'Netherlands, The' : 'Netherlands',\n",
    "    'North Macedonia, Republic of' : 'North Macedonia',\n",
    "    'Palau, Rep. of' : 'Palau',\n",
    "    'Poland, Rep. of' : 'Poland',\n",
    "    'San Marino, Rep. of' : 'San Marino', \n",
    "    'Serbia, Rep. of' : 'Serbia',\n",
    "    'Slovak Rep.': 'Slovak',\n",
    "    'South Sudan, Rep. of' : 'South Sudan',\n",
    "    'Syrian Arab Republic' : 'Syrian Arab Rep',\n",
    "    'Tajikistan, Rep. of' : 'Tajikistan',\n",
    "    'Tanzania, United Rep. of' : 'Tanzania',\n",
    "    'Timor-Leste, Dem. Rep. of' : 'Timor-Leste',\n",
    "    'Turkiye' : 'Turkey',\n",
    "    \"Viet Nam\": \"Vietnam\", \n",
    "    \"Türkiye\": \"Turkey\",\n",
    "    'Virgin Islands (U.S.)' : 'United States Virgin Islands',\n",
    "    'Uzbekistan, Rep. of' : 'Uzbekistan',\n",
    "    'Venezuela, Rep. Bolivariana de' : 'Venezuela',\n",
    "    'West Bank and Gaza' : 'Palestine',\n",
    "    'Yemen, Rep. of' : 'Yemen, Rep.',\n",
    "    }"
   ]
  },
  {
   "cell_type": "code",
   "execution_count": 19,
   "metadata": {},
   "outputs": [],
   "source": [
    "df_pop['country'] = df_pop['country'].replace(country_name_mapping)\n",
    "df_co2['country'] = df_co2['country'].replace(country_name_mapping)"
   ]
  },
  {
   "cell_type": "markdown",
   "metadata": {},
   "source": [
    "# Final check for discrepancies"
   ]
  },
  {
   "cell_type": "code",
   "execution_count": 20,
   "metadata": {},
   "outputs": [],
   "source": [
    "# Final check for discrepancies\n",
    "unique_countries_pop = set(df_pop['country'].unique())\n",
    "unique_countries_co2 = set(df_co2['country'].unique())\n",
    "\n",
    "# Find remaining discrepancies\n",
    "final_discrepancies = unique_countries_pop.symmetric_difference(unique_countries_co2)"
   ]
  },
  {
   "cell_type": "code",
   "execution_count": 21,
   "metadata": {},
   "outputs": [
    {
     "name": "stdout",
     "output_type": "stream",
     "text": [
      "{'Guam', 'St. Martin (French part)', 'Puerto Rico', 'Isle of Man', 'Not classified', 'Channel Islands', 'San Marino', 'Northern Mariana Islands', 'Monaco', 'American Samoa', 'United States Virgin Islands'}\n"
     ]
    }
   ],
   "source": [
    "# Display final discrepancies (should be empty)\n",
    "print(final_discrepancies)  # Should be empty"
   ]
  },
  {
   "cell_type": "markdown",
   "metadata": {},
   "source": [
    "# Merge the data frames"
   ]
  },
  {
   "cell_type": "code",
   "execution_count": 22,
   "metadata": {},
   "outputs": [
    {
     "name": "stdout",
     "output_type": "stream",
     "text": [
      "                       country  year   population   co2_emission\n",
      "0                        Aruba  1960      54608.0   11092.675000\n",
      "1  Africa Eastern and Southern  1960  130692579.0  118545.901306\n",
      "2                  Afghanistan  1960    8622466.0     414.371000\n",
      "3   Africa Western and Central  1960   97256290.0    8760.463000\n",
      "4                       Angola  1960    5357195.0     550.050000\n"
     ]
    }
   ],
   "source": [
    "# Merge the two dataframes on country and year\n",
    "data = pd.merge(df_pop, df_co2, on=['country', 'year'], how='inner')\n",
    "\n",
    "# Display the first few rows of the merged dataframe\n",
    "print(data.head())\n",
    "\n",
    "# Save the merged dataframe to a CSV file\n",
    "data.to_csv('../Data/Clean Data/merged_population_co2.csv', index=False)"
   ]
  },
  {
   "cell_type": "code",
   "execution_count": 23,
   "metadata": {},
   "outputs": [
    {
     "name": "stdout",
     "output_type": "stream",
     "text": [
      "[1960, 1961, 1962, 1963, 1964, 1965, 1966, 1967, 1968, 1969, 1970, 1971, 1972, 1973, 1974, 1975, 1976, 1977, 1978, 1979, 1980, 1981, 1982, 1983, 1984, 1985, 1986, 1987, 1988, 1989, 1990, 1991, 1992, 1993, 1994, 1995, 1996, 1997, 1998, 1999, 2000, 2001, 2002, 2003, 2004, 2005, 2006, 2007, 2008, 2009, 2010, 2011, 2012, 2013, 2014, 2015, 2016, 2017, 2018, 2019]\n"
     ]
    }
   ],
   "source": [
    "print(list(data.year.unique()))"
   ]
  },
  {
   "cell_type": "code",
   "execution_count": 24,
   "metadata": {},
   "outputs": [
    {
     "data": {
      "text/plain": [
       "array([1999, 2000, 2001, 2002, 2003, 2004, 2005, 2006, 2007, 2008, 2009,\n",
       "       2010, 2011, 2012, 2013, 2014, 2015, 2016, 2017, 2018, 2019])"
      ]
     },
     "execution_count": 24,
     "metadata": {},
     "output_type": "execute_result"
    }
   ],
   "source": [
    "years_to_drop = [1960, 1961, 1962, 1963, 1964, 1965, 1966, 1967, 1968, 1969, 1970, 1971, 1972, 1973, 1974, 1975, 1976, 1977, 1978, 1979, 1980, 1981, 1982, 1983,\n",
    "                1984, 1985, 1986, 1987, 1988, 1989, 1990, 1991, 1992, 1993, 1994, 1995, 1996, 1997, 1998]\n",
    "\n",
    "# Ensure row_to_drop is initialized (if applicable)\n",
    "row_to_drop = None  # Or set it to the actual index you want to drop (if using drop_row_index)\n",
    "\n",
    "# Filter by year values (assuming 'year' is the column name)\n",
    "data = data[~data['year'].isin(years_to_drop)]  # Invert for rows to keep\n",
    "\n",
    "# Print the modified DataFrame\n",
    "data.year.unique()"
   ]
  },
  {
   "cell_type": "markdown",
   "metadata": {},
   "source": [
    "# Recheck the values in the new dataframe"
   ]
  },
  {
   "cell_type": "code",
   "execution_count": 25,
   "metadata": {},
   "outputs": [
    {
     "data": {
      "text/plain": [
       "country         False\n",
       "year            False\n",
       "population      False\n",
       "co2_emission    False\n",
       "dtype: bool"
      ]
     },
     "execution_count": 25,
     "metadata": {},
     "output_type": "execute_result"
    }
   ],
   "source": [
    "#check for nan, null and duplicates\n",
    "data.isnull().any()"
   ]
  },
  {
   "cell_type": "code",
   "execution_count": 26,
   "metadata": {},
   "outputs": [
    {
     "data": {
      "text/plain": [
       "country         False\n",
       "year            False\n",
       "population      False\n",
       "co2_emission    False\n",
       "dtype: bool"
      ]
     },
     "execution_count": 26,
     "metadata": {},
     "output_type": "execute_result"
    }
   ],
   "source": [
    "data.isna().any()"
   ]
  },
  {
   "cell_type": "code",
   "execution_count": 27,
   "metadata": {},
   "outputs": [
    {
     "data": {
      "text/plain": [
       "False"
      ]
     },
     "execution_count": 27,
     "metadata": {},
     "output_type": "execute_result"
    }
   ],
   "source": [
    "data.duplicated().any()"
   ]
  },
  {
   "cell_type": "code",
   "execution_count": 28,
   "metadata": {},
   "outputs": [
    {
     "data": {
      "text/html": [
       "<div>\n",
       "<style scoped>\n",
       "    .dataframe tbody tr th:only-of-type {\n",
       "        vertical-align: middle;\n",
       "    }\n",
       "\n",
       "    .dataframe tbody tr th {\n",
       "        vertical-align: top;\n",
       "    }\n",
       "\n",
       "    .dataframe thead th {\n",
       "        text-align: right;\n",
       "    }\n",
       "</style>\n",
       "<table border=\"1\" class=\"dataframe\">\n",
       "  <thead>\n",
       "    <tr style=\"text-align: right;\">\n",
       "      <th></th>\n",
       "      <th>country</th>\n",
       "      <th>year</th>\n",
       "      <th>population</th>\n",
       "      <th>co2_emission</th>\n",
       "    </tr>\n",
       "  </thead>\n",
       "  <tbody>\n",
       "    <tr>\n",
       "      <th>8683</th>\n",
       "      <td>Aruba</td>\n",
       "      <td>1999</td>\n",
       "      <td>86867.0</td>\n",
       "      <td>810.407000</td>\n",
       "    </tr>\n",
       "    <tr>\n",
       "      <th>8684</th>\n",
       "      <td>Africa Eastern and Southern</td>\n",
       "      <td>1999</td>\n",
       "      <td>391486231.0</td>\n",
       "      <td>351070.000000</td>\n",
       "    </tr>\n",
       "    <tr>\n",
       "      <th>8685</th>\n",
       "      <td>Afghanistan</td>\n",
       "      <td>1999</td>\n",
       "      <td>19262847.0</td>\n",
       "      <td>810.000000</td>\n",
       "    </tr>\n",
       "    <tr>\n",
       "      <th>8686</th>\n",
       "      <td>Africa Western and Central</td>\n",
       "      <td>1999</td>\n",
       "      <td>262397030.0</td>\n",
       "      <td>133013.187487</td>\n",
       "    </tr>\n",
       "    <tr>\n",
       "      <th>8687</th>\n",
       "      <td>Angola</td>\n",
       "      <td>1999</td>\n",
       "      <td>15870753.0</td>\n",
       "      <td>17610.000000</td>\n",
       "    </tr>\n",
       "    <tr>\n",
       "      <th>...</th>\n",
       "      <td>...</td>\n",
       "      <td>...</td>\n",
       "      <td>...</td>\n",
       "      <td>...</td>\n",
       "    </tr>\n",
       "    <tr>\n",
       "      <th>13948</th>\n",
       "      <td>Samoa</td>\n",
       "      <td>2019</td>\n",
       "      <td>211905.0</td>\n",
       "      <td>300.000012</td>\n",
       "    </tr>\n",
       "    <tr>\n",
       "      <th>13949</th>\n",
       "      <td>Yemen, Rep.</td>\n",
       "      <td>2019</td>\n",
       "      <td>31546691.0</td>\n",
       "      <td>11100.000381</td>\n",
       "    </tr>\n",
       "    <tr>\n",
       "      <th>13950</th>\n",
       "      <td>South Africa</td>\n",
       "      <td>2019</td>\n",
       "      <td>58087055.0</td>\n",
       "      <td>439640.014648</td>\n",
       "    </tr>\n",
       "    <tr>\n",
       "      <th>13951</th>\n",
       "      <td>Zambia</td>\n",
       "      <td>2019</td>\n",
       "      <td>18380477.0</td>\n",
       "      <td>6800.000191</td>\n",
       "    </tr>\n",
       "    <tr>\n",
       "      <th>13952</th>\n",
       "      <td>Zimbabwe</td>\n",
       "      <td>2019</td>\n",
       "      <td>15354608.0</td>\n",
       "      <td>11760.000229</td>\n",
       "    </tr>\n",
       "  </tbody>\n",
       "</table>\n",
       "<p>5270 rows × 4 columns</p>\n",
       "</div>"
      ],
      "text/plain": [
       "                           country  year   population   co2_emission\n",
       "8683                         Aruba  1999      86867.0     810.407000\n",
       "8684   Africa Eastern and Southern  1999  391486231.0  351070.000000\n",
       "8685                   Afghanistan  1999   19262847.0     810.000000\n",
       "8686    Africa Western and Central  1999  262397030.0  133013.187487\n",
       "8687                        Angola  1999   15870753.0   17610.000000\n",
       "...                            ...   ...          ...            ...\n",
       "13948                        Samoa  2019     211905.0     300.000012\n",
       "13949                  Yemen, Rep.  2019   31546691.0   11100.000381\n",
       "13950                 South Africa  2019   58087055.0  439640.014648\n",
       "13951                       Zambia  2019   18380477.0    6800.000191\n",
       "13952                     Zimbabwe  2019   15354608.0   11760.000229\n",
       "\n",
       "[5270 rows x 4 columns]"
      ]
     },
     "execution_count": 28,
     "metadata": {},
     "output_type": "execute_result"
    }
   ],
   "source": [
    "# save the cleaned data to a new CSV file\n",
    "data.to_csv('../Data/Clean Data/1. co2_population_cleaned.csv', index=False)\n",
    "data\n"
   ]
  },
  {
   "cell_type": "code",
   "execution_count": null,
   "metadata": {},
   "outputs": [],
   "source": []
  }
 ],
 "metadata": {
  "kernelspec": {
   "display_name": "myenvpython",
   "language": "python",
   "name": "python3"
  },
  "language_info": {
   "codemirror_mode": {
    "name": "ipython",
    "version": 3
   },
   "file_extension": ".py",
   "mimetype": "text/x-python",
   "name": "python",
   "nbconvert_exporter": "python",
   "pygments_lexer": "ipython3",
   "version": "3.11.7"
  }
 },
 "nbformat": 4,
 "nbformat_minor": 2
}
