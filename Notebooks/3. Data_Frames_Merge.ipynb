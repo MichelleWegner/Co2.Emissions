{
 "cells": [
  {
   "cell_type": "code",
   "execution_count": 1,
   "metadata": {},
   "outputs": [],
   "source": [
    "#set the columns name to lower case, strip and replace empty spaces\n",
    "def column_names(df_name):\n",
    "    new_column_names = [column.strip().lower().replace(\" \", \"_\") for column in df_name.columns]\n",
    "    df_name.columns = new_column_names\n",
    "\n",
    "#change the name of a column\n",
    "def change_column_name(df, old_name, new_name):\n",
    "    df.rename(columns={old_name: new_name}, inplace=True)\n",
    "    return df \n",
    "\n",
    "#drop one column\n",
    "def drop_column(df, column):\n",
    "    df = df.drop(column,axis='columns')\n",
    "    return df\n",
    "#drop one row by the index\n",
    "def drop_row_index(df, df_index):\n",
    "    df = df.drop(index=df_index)\n",
    "    return df\n",
    "#change to numeric \n",
    "def to_numeric(df, columns_to_proces):\n",
    "    for column in columns_to_proces: \n",
    "        df[column] = pd.to_numeric(df[column], errors='coerce')"
   ]
  },
  {
   "cell_type": "markdown",
   "metadata": {},
   "source": [
    "# **Data merge**"
   ]
  },
  {
   "cell_type": "code",
   "execution_count": 2,
   "metadata": {},
   "outputs": [],
   "source": [
    "# We have two cleaned data sets, one about the population and CO2 \n",
    "# emission and one with the temperature, all of them from 1999 to \n",
    "# 2019. We will reshaped them and check all the values are ready \n",
    "# to be analyzed."
   ]
  },
  {
   "cell_type": "markdown",
   "metadata": {},
   "source": [
    "## Import all the libraries we will use"
   ]
  },
  {
   "cell_type": "code",
   "execution_count": 3,
   "metadata": {},
   "outputs": [],
   "source": [
    "import pandas as pd\n",
    "import numpy as np"
   ]
  },
  {
   "cell_type": "markdown",
   "metadata": {},
   "source": [
    "## Import the data sets"
   ]
  },
  {
   "cell_type": "code",
   "execution_count": 4,
   "metadata": {},
   "outputs": [],
   "source": [
    "\n",
    "df1= pd.read_csv('../Data/Clean Data/1. co2_population_cleaned.csv')\n",
    "df2= pd.read_csv('../Data/Clean Data/2. Temperature_cleaned.csv')"
   ]
  },
  {
   "cell_type": "markdown",
   "metadata": {},
   "source": [
    "## Chekout the two data sets"
   ]
  },
  {
   "cell_type": "code",
   "execution_count": 5,
   "metadata": {},
   "outputs": [
    {
     "data": {
      "text/html": [
       "<div>\n",
       "<style scoped>\n",
       "    .dataframe tbody tr th:only-of-type {\n",
       "        vertical-align: middle;\n",
       "    }\n",
       "\n",
       "    .dataframe tbody tr th {\n",
       "        vertical-align: top;\n",
       "    }\n",
       "\n",
       "    .dataframe thead th {\n",
       "        text-align: right;\n",
       "    }\n",
       "</style>\n",
       "<table border=\"1\" class=\"dataframe\">\n",
       "  <thead>\n",
       "    <tr style=\"text-align: right;\">\n",
       "      <th></th>\n",
       "      <th>country</th>\n",
       "      <th>year</th>\n",
       "      <th>population</th>\n",
       "      <th>co2_emission</th>\n",
       "    </tr>\n",
       "  </thead>\n",
       "  <tbody>\n",
       "    <tr>\n",
       "      <th>0</th>\n",
       "      <td>Aruba</td>\n",
       "      <td>1999</td>\n",
       "      <td>86867.0</td>\n",
       "      <td>810.407000</td>\n",
       "    </tr>\n",
       "    <tr>\n",
       "      <th>1</th>\n",
       "      <td>Africa Eastern and Southern</td>\n",
       "      <td>1999</td>\n",
       "      <td>391486231.0</td>\n",
       "      <td>351070.000000</td>\n",
       "    </tr>\n",
       "    <tr>\n",
       "      <th>2</th>\n",
       "      <td>Afghanistan</td>\n",
       "      <td>1999</td>\n",
       "      <td>19262847.0</td>\n",
       "      <td>810.000000</td>\n",
       "    </tr>\n",
       "    <tr>\n",
       "      <th>3</th>\n",
       "      <td>Africa Western and Central</td>\n",
       "      <td>1999</td>\n",
       "      <td>262397030.0</td>\n",
       "      <td>133013.187487</td>\n",
       "    </tr>\n",
       "    <tr>\n",
       "      <th>4</th>\n",
       "      <td>Angola</td>\n",
       "      <td>1999</td>\n",
       "      <td>15870753.0</td>\n",
       "      <td>17610.000000</td>\n",
       "    </tr>\n",
       "    <tr>\n",
       "      <th>...</th>\n",
       "      <td>...</td>\n",
       "      <td>...</td>\n",
       "      <td>...</td>\n",
       "      <td>...</td>\n",
       "    </tr>\n",
       "    <tr>\n",
       "      <th>5265</th>\n",
       "      <td>Samoa</td>\n",
       "      <td>2019</td>\n",
       "      <td>211905.0</td>\n",
       "      <td>300.000012</td>\n",
       "    </tr>\n",
       "    <tr>\n",
       "      <th>5266</th>\n",
       "      <td>Yemen, Rep.</td>\n",
       "      <td>2019</td>\n",
       "      <td>31546691.0</td>\n",
       "      <td>11100.000381</td>\n",
       "    </tr>\n",
       "    <tr>\n",
       "      <th>5267</th>\n",
       "      <td>South Africa</td>\n",
       "      <td>2019</td>\n",
       "      <td>58087055.0</td>\n",
       "      <td>439640.014648</td>\n",
       "    </tr>\n",
       "    <tr>\n",
       "      <th>5268</th>\n",
       "      <td>Zambia</td>\n",
       "      <td>2019</td>\n",
       "      <td>18380477.0</td>\n",
       "      <td>6800.000191</td>\n",
       "    </tr>\n",
       "    <tr>\n",
       "      <th>5269</th>\n",
       "      <td>Zimbabwe</td>\n",
       "      <td>2019</td>\n",
       "      <td>15354608.0</td>\n",
       "      <td>11760.000229</td>\n",
       "    </tr>\n",
       "  </tbody>\n",
       "</table>\n",
       "<p>5270 rows × 4 columns</p>\n",
       "</div>"
      ],
      "text/plain": [
       "                          country  year   population   co2_emission\n",
       "0                           Aruba  1999      86867.0     810.407000\n",
       "1     Africa Eastern and Southern  1999  391486231.0  351070.000000\n",
       "2                     Afghanistan  1999   19262847.0     810.000000\n",
       "3      Africa Western and Central  1999  262397030.0  133013.187487\n",
       "4                          Angola  1999   15870753.0   17610.000000\n",
       "...                           ...   ...          ...            ...\n",
       "5265                        Samoa  2019     211905.0     300.000012\n",
       "5266                  Yemen, Rep.  2019   31546691.0   11100.000381\n",
       "5267                 South Africa  2019   58087055.0  439640.014648\n",
       "5268                       Zambia  2019   18380477.0    6800.000191\n",
       "5269                     Zimbabwe  2019   15354608.0   11760.000229\n",
       "\n",
       "[5270 rows x 4 columns]"
      ]
     },
     "execution_count": 5,
     "metadata": {},
     "output_type": "execute_result"
    }
   ],
   "source": [
    "#df1: Population and CO2 emissions\n",
    "\n",
    "df1"
   ]
  },
  {
   "cell_type": "code",
   "execution_count": 6,
   "metadata": {},
   "outputs": [
    {
     "data": {
      "text/html": [
       "<div>\n",
       "<style scoped>\n",
       "    .dataframe tbody tr th:only-of-type {\n",
       "        vertical-align: middle;\n",
       "    }\n",
       "\n",
       "    .dataframe tbody tr th {\n",
       "        vertical-align: top;\n",
       "    }\n",
       "\n",
       "    .dataframe thead th {\n",
       "        text-align: right;\n",
       "    }\n",
       "</style>\n",
       "<table border=\"1\" class=\"dataframe\">\n",
       "  <thead>\n",
       "    <tr style=\"text-align: right;\">\n",
       "      <th></th>\n",
       "      <th>country</th>\n",
       "      <th>year</th>\n",
       "      <th>temperature_change</th>\n",
       "    </tr>\n",
       "  </thead>\n",
       "  <tbody>\n",
       "    <tr>\n",
       "      <th>0</th>\n",
       "      <td>Afghanistan, Islamic Rep. of</td>\n",
       "      <td>1999</td>\n",
       "      <td>1.301</td>\n",
       "    </tr>\n",
       "    <tr>\n",
       "      <th>1</th>\n",
       "      <td>Albania</td>\n",
       "      <td>1999</td>\n",
       "      <td>0.722</td>\n",
       "    </tr>\n",
       "    <tr>\n",
       "      <th>2</th>\n",
       "      <td>Algeria</td>\n",
       "      <td>1999</td>\n",
       "      <td>1.456</td>\n",
       "    </tr>\n",
       "    <tr>\n",
       "      <th>3</th>\n",
       "      <td>American Samoa</td>\n",
       "      <td>1999</td>\n",
       "      <td>0.243</td>\n",
       "    </tr>\n",
       "    <tr>\n",
       "      <th>4</th>\n",
       "      <td>Andorra</td>\n",
       "      <td>1999</td>\n",
       "      <td>1.020</td>\n",
       "    </tr>\n",
       "    <tr>\n",
       "      <th>...</th>\n",
       "      <td>...</td>\n",
       "      <td>...</td>\n",
       "      <td>...</td>\n",
       "    </tr>\n",
       "    <tr>\n",
       "      <th>4741</th>\n",
       "      <td>Palestine</td>\n",
       "      <td>2019</td>\n",
       "      <td>1.298</td>\n",
       "    </tr>\n",
       "    <tr>\n",
       "      <th>4742</th>\n",
       "      <td>Western Sahara</td>\n",
       "      <td>2019</td>\n",
       "      <td>1.430</td>\n",
       "    </tr>\n",
       "    <tr>\n",
       "      <th>4743</th>\n",
       "      <td>World</td>\n",
       "      <td>2019</td>\n",
       "      <td>1.449</td>\n",
       "    </tr>\n",
       "    <tr>\n",
       "      <th>4744</th>\n",
       "      <td>Zambia</td>\n",
       "      <td>2019</td>\n",
       "      <td>1.295</td>\n",
       "    </tr>\n",
       "    <tr>\n",
       "      <th>4745</th>\n",
       "      <td>Zimbabwe</td>\n",
       "      <td>2019</td>\n",
       "      <td>0.939</td>\n",
       "    </tr>\n",
       "  </tbody>\n",
       "</table>\n",
       "<p>4746 rows × 3 columns</p>\n",
       "</div>"
      ],
      "text/plain": [
       "                           country  year  temperature_change\n",
       "0     Afghanistan, Islamic Rep. of  1999               1.301\n",
       "1                          Albania  1999               0.722\n",
       "2                          Algeria  1999               1.456\n",
       "3                   American Samoa  1999               0.243\n",
       "4                          Andorra  1999               1.020\n",
       "...                            ...   ...                 ...\n",
       "4741                     Palestine  2019               1.298\n",
       "4742                Western Sahara  2019               1.430\n",
       "4743                         World  2019               1.449\n",
       "4744                        Zambia  2019               1.295\n",
       "4745                      Zimbabwe  2019               0.939\n",
       "\n",
       "[4746 rows x 3 columns]"
      ]
     },
     "execution_count": 6,
     "metadata": {},
     "output_type": "execute_result"
    }
   ],
   "source": [
    "# df2: Earth temperature dataset\n",
    "df2"
   ]
  },
  {
   "cell_type": "markdown",
   "metadata": {},
   "source": [
    "## Standardize the country names: Ensure consistency in country names."
   ]
  },
  {
   "cell_type": "markdown",
   "metadata": {},
   "source": [
    "## Check the name of the countries"
   ]
  },
  {
   "cell_type": "code",
   "execution_count": 7,
   "metadata": {},
   "outputs": [],
   "source": [
    "country_name_mapping =  {\n",
    "    'Afghanistan' : 'Afghanistan',\n",
    "    'Afghanistan' : 'Afghanistan',\n",
    "    \"Islamic Rep. of', Albania\" : 'Albania',\n",
    "    'Algeria' : 'Algeria',\n",
    "    'American Samoa' :  'American Samoa', \n",
    "    'Andorra' : 'Andorra',\n",
    "    'Andorra, Principality of': 'Andorra',\n",
    "    'Angola' : 'Angola',\n",
    "    'Antigua and Barbuda' : 'Antigua and Barbuda',\n",
    "    'Argentina' : 'Argentina' ,\n",
    "    'Armenia' : 'Armenia',\n",
    "    'Armenia, Rep. of' : 'Armenia',\n",
    "    'Aruba, Kingdom of the Netherlands' :'Aruba',\n",
    "    'Australia' : 'Australia',\n",
    "    'Austria' : 'Austria',\n",
    "    'Azerbaijan' : 'Azerbaijan',\n",
    "    'Azerbaijan, Rep. of' : 'Azerbaijan',\n",
    "    'Bahamas, The' : 'Bahamas',\n",
    "    'Bahamas, The' : 'Bahamas',\n",
    "    'Bahrain' : 'Bahrain',\n",
    "    'Bahrain, Kingdom of' : 'Bahrain',\n",
    "    'Bangladesh' : 'Bangladesh',\n",
    "    'Barbados' : 'Barbados',\n",
    "    'Barbados' : 'Barbados',\n",
    "    'Belarus' : 'Belarus',\n",
    "    'Belarus, Rep. of' : 'Belarus',\n",
    "    'Belgium' : 'Belgium',\n",
    "    'Belize' :'Belize',\n",
    "    'Benin' : 'Benin',\n",
    "    'Bhutan' : 'Bhutan',\n",
    "    'Bolivia' : 'Bolivia',\n",
    "    'Bosnia and Herzegovina' : 'Bosnia and Herzegovina',\n",
    "    'Botswana' : 'Botswana',\n",
    "    'Brazil' : 'Brazil',\n",
    "    'British Virgin Islands' : 'British Virgin Islands',\n",
    "    'Central African Republic' :'Central African Republic',\n",
    "    'Central African Rep.' : 'Central African Republic',\n",
    "    'Comoros' : 'Comoros',\n",
    "    'Comoros, Union of the' : 'Comoros',\n",
    "    'Congo, Rep.' : 'Congo, Rep.',\n",
    "    'Congo, Rep. of' : 'Congo, Rep.',\n",
    "    'Croatia, Rep. of' : 'Croatia',\n",
    "    'Dominican Republic' : 'Dominican Rep.',\n",
    "    'Egypt, Arab Rep.' : 'Egypt, Arab Rep. of',\n",
    "    'Equatorial Guinea, Rep. of' : 'Equatorial Guinea',\n",
    "    'Eritrea, The State of' : 'Eritrea',\n",
    "    'Estonia, Rep. of' : 'Estonia',\n",
    "    'Eswatini, Kingdom of' : 'Eswatini',\n",
    "    'Ethiopia, The Federal Dem. Rep. of' : 'Ethiopia',\n",
    "    'Fiji, Rep. of' : 'Fiji',\n",
    "    'Kazakhstan, Rep. of' : 'Kazakhstan',\n",
    "    \"Korea, Dem. People's Rep. of\" :\"Korea, Dem. People's Rep.\",\n",
    "    'Korea, Rep. of' : 'Korea, Rep.',\n",
    "    'Kyrgyz Republic' : 'Kyrgyz Rep.',\n",
    "    \"Lao People's Dem. Rep.\" : 'Lao PDR',\n",
    "    'Lesotho, Kingdom of' : 'Lesotho',\n",
    "    'Marshall Islands, Rep. of the' : 'Marshall Islands',\n",
    "    'Mauritania, Islamic Rep. of' : 'Mauritania',\n",
    "    'Micronesia, Federated States of' : 'Micronesia',\n",
    "    'Micronesia, Fed. Sts.' : 'Micronesia',\n",
    "    'Moldova, Rep. of' : 'Moldova',\n",
    "    'Mozambique, Rep. of' : 'Mozambique',\n",
    "    'Nauru, Rep. of' : 'Nauru',\n",
    "    'Netherlands, The' : 'Netherlands',\n",
    "    'North Macedonia, Republic of' : 'North Macedonia',\n",
    "    'Palau, Rep. of' : 'Palau',\n",
    "    'Poland, Rep. of' : 'Poland',\n",
    "    'San Marino, Rep. of' : 'San Marino', \n",
    "    'Serbia, Rep. of' : 'Serbia',\n",
    "    'Slovak Rep.': 'Slovak',\n",
    "    'South Sudan, Rep. of' : 'South Sudan',\n",
    "    'Syrian Arab Republic' : 'Syrian Arab Rep',\n",
    "    'Tajikistan, Rep. of' : 'Tajikistan',\n",
    "    'Tanzania, United Rep. of' : 'Tanzania',\n",
    "    'Timor-Leste, Dem. Rep. of' : 'Timor-Leste',\n",
    "    'Turkiye' : 'Turkey',\n",
    "    \"Viet Nam\": \"Vietnam\", \n",
    "    \"Türkiye\": \"Turkey\",\n",
    "    'Virgin Islands (U.S.)' : 'United States Virgin Islands',\n",
    "    'Uzbekistan, Rep. of' : 'Uzbekistan',\n",
    "    'Venezuela, Rep. Bolivariana de' : 'Venezuela',\n",
    "    'West Bank and Gaza' : 'Palestine',\n",
    "    'Yemen, Rep. of' : 'Yemen, Rep.',\n",
    "    }"
   ]
  },
  {
   "cell_type": "code",
   "execution_count": 8,
   "metadata": {},
   "outputs": [],
   "source": [
    "df1['country'] = df2['country'].replace(country_name_mapping)"
   ]
  },
  {
   "cell_type": "code",
   "execution_count": 9,
   "metadata": {},
   "outputs": [
    {
     "data": {
      "text/plain": [
       "5270"
      ]
     },
     "execution_count": 9,
     "metadata": {},
     "output_type": "execute_result"
    }
   ],
   "source": [
    "len(df1['country'])"
   ]
  },
  {
   "cell_type": "code",
   "execution_count": 10,
   "metadata": {},
   "outputs": [],
   "source": [
    "df2['country'] = df1['country'].replace(country_name_mapping)"
   ]
  },
  {
   "cell_type": "code",
   "execution_count": 11,
   "metadata": {},
   "outputs": [
    {
     "data": {
      "text/plain": [
       "4746"
      ]
     },
     "execution_count": 11,
     "metadata": {},
     "output_type": "execute_result"
    }
   ],
   "source": [
    "len(df2['country'])"
   ]
  },
  {
   "cell_type": "code",
   "execution_count": 12,
   "metadata": {},
   "outputs": [],
   "source": [
    "#droping duplicates\n",
    "df1.drop_duplicates(subset=['country', 'year'], keep='first', inplace=True)\n",
    "df2.drop_duplicates(subset=['country', 'year'], keep='first', inplace=True)"
   ]
  },
  {
   "cell_type": "markdown",
   "metadata": {},
   "source": [
    "# Merge both DataFrames to a new dataset called df3 "
   ]
  },
  {
   "cell_type": "code",
   "execution_count": 13,
   "metadata": {},
   "outputs": [
    {
     "data": {
      "text/html": [
       "<div>\n",
       "<style scoped>\n",
       "    .dataframe tbody tr th:only-of-type {\n",
       "        vertical-align: middle;\n",
       "    }\n",
       "\n",
       "    .dataframe tbody tr th {\n",
       "        vertical-align: top;\n",
       "    }\n",
       "\n",
       "    .dataframe thead th {\n",
       "        text-align: right;\n",
       "    }\n",
       "</style>\n",
       "<table border=\"1\" class=\"dataframe\">\n",
       "  <thead>\n",
       "    <tr style=\"text-align: right;\">\n",
       "      <th></th>\n",
       "      <th>country</th>\n",
       "      <th>year</th>\n",
       "      <th>population</th>\n",
       "      <th>co2_emission</th>\n",
       "      <th>temperature_change</th>\n",
       "    </tr>\n",
       "  </thead>\n",
       "  <tbody>\n",
       "    <tr>\n",
       "      <th>0</th>\n",
       "      <td>Afghanistan, Islamic Rep. of</td>\n",
       "      <td>1999</td>\n",
       "      <td>86867.0</td>\n",
       "      <td>810.407000</td>\n",
       "      <td>1.301</td>\n",
       "    </tr>\n",
       "    <tr>\n",
       "      <th>1</th>\n",
       "      <td>Albania</td>\n",
       "      <td>1999</td>\n",
       "      <td>391486231.0</td>\n",
       "      <td>351070.000000</td>\n",
       "      <td>0.722</td>\n",
       "    </tr>\n",
       "    <tr>\n",
       "      <th>2</th>\n",
       "      <td>Algeria</td>\n",
       "      <td>1999</td>\n",
       "      <td>19262847.0</td>\n",
       "      <td>810.000000</td>\n",
       "      <td>1.456</td>\n",
       "    </tr>\n",
       "    <tr>\n",
       "      <th>3</th>\n",
       "      <td>American Samoa</td>\n",
       "      <td>1999</td>\n",
       "      <td>262397030.0</td>\n",
       "      <td>133013.187487</td>\n",
       "      <td>0.243</td>\n",
       "    </tr>\n",
       "    <tr>\n",
       "      <th>4</th>\n",
       "      <td>Andorra</td>\n",
       "      <td>1999</td>\n",
       "      <td>15870753.0</td>\n",
       "      <td>17610.000000</td>\n",
       "      <td>1.020</td>\n",
       "    </tr>\n",
       "    <tr>\n",
       "      <th>...</th>\n",
       "      <td>...</td>\n",
       "      <td>...</td>\n",
       "      <td>...</td>\n",
       "      <td>...</td>\n",
       "      <td>...</td>\n",
       "    </tr>\n",
       "    <tr>\n",
       "      <th>4256</th>\n",
       "      <td>Palestine</td>\n",
       "      <td>2017</td>\n",
       "      <td>643634.0</td>\n",
       "      <td>349.999994</td>\n",
       "      <td>0.821</td>\n",
       "    </tr>\n",
       "    <tr>\n",
       "      <th>4257</th>\n",
       "      <td>Western Sahara</td>\n",
       "      <td>2017</td>\n",
       "      <td>7677565.0</td>\n",
       "      <td>939.999998</td>\n",
       "      <td>2.078</td>\n",
       "    </tr>\n",
       "    <tr>\n",
       "      <th>4258</th>\n",
       "      <td>World</td>\n",
       "      <td>2017</td>\n",
       "      <td>6266654.0</td>\n",
       "      <td>6380.000114</td>\n",
       "      <td>1.424</td>\n",
       "    </tr>\n",
       "    <tr>\n",
       "      <th>4259</th>\n",
       "      <td>Zambia</td>\n",
       "      <td>2017</td>\n",
       "      <td>14864221.0</td>\n",
       "      <td>660.000026</td>\n",
       "      <td>0.721</td>\n",
       "    </tr>\n",
       "    <tr>\n",
       "      <th>4260</th>\n",
       "      <td>Zimbabwe</td>\n",
       "      <td>2017</td>\n",
       "      <td>7020858.0</td>\n",
       "      <td>47340.000153</td>\n",
       "      <td>0.116</td>\n",
       "    </tr>\n",
       "  </tbody>\n",
       "</table>\n",
       "<p>4261 rows × 5 columns</p>\n",
       "</div>"
      ],
      "text/plain": [
       "                           country  year   population   co2_emission  \\\n",
       "0     Afghanistan, Islamic Rep. of  1999      86867.0     810.407000   \n",
       "1                          Albania  1999  391486231.0  351070.000000   \n",
       "2                          Algeria  1999   19262847.0     810.000000   \n",
       "3                   American Samoa  1999  262397030.0  133013.187487   \n",
       "4                          Andorra  1999   15870753.0   17610.000000   \n",
       "...                            ...   ...          ...            ...   \n",
       "4256                     Palestine  2017     643634.0     349.999994   \n",
       "4257                Western Sahara  2017    7677565.0     939.999998   \n",
       "4258                         World  2017    6266654.0    6380.000114   \n",
       "4259                        Zambia  2017   14864221.0     660.000026   \n",
       "4260                      Zimbabwe  2017    7020858.0   47340.000153   \n",
       "\n",
       "      temperature_change  \n",
       "0                  1.301  \n",
       "1                  0.722  \n",
       "2                  1.456  \n",
       "3                  0.243  \n",
       "4                  1.020  \n",
       "...                  ...  \n",
       "4256               0.821  \n",
       "4257               2.078  \n",
       "4258               1.424  \n",
       "4259               0.721  \n",
       "4260               0.116  \n",
       "\n",
       "[4261 rows x 5 columns]"
      ]
     },
     "execution_count": 13,
     "metadata": {},
     "output_type": "execute_result"
    }
   ],
   "source": [
    "df3 = pd.merge(df1, df2, on=['country', 'year'], how='inner')\n",
    "df3"
   ]
  },
  {
   "cell_type": "code",
   "execution_count": null,
   "metadata": {},
   "outputs": [],
   "source": []
  },
  {
   "cell_type": "markdown",
   "metadata": {},
   "source": [
    "## Recheck the data"
   ]
  },
  {
   "cell_type": "markdown",
   "metadata": {},
   "source": [
    "### Check the data types "
   ]
  },
  {
   "cell_type": "code",
   "execution_count": 14,
   "metadata": {},
   "outputs": [
    {
     "data": {
      "text/plain": [
       "country                object\n",
       "year                    int64\n",
       "population            float64\n",
       "co2_emission          float64\n",
       "temperature_change    float64\n",
       "dtype: object"
      ]
     },
     "execution_count": 14,
     "metadata": {},
     "output_type": "execute_result"
    }
   ],
   "source": [
    "df3.dtypes"
   ]
  },
  {
   "cell_type": "code",
   "execution_count": 15,
   "metadata": {},
   "outputs": [
    {
     "data": {
      "text/plain": [
       "4261"
      ]
     },
     "execution_count": 15,
     "metadata": {},
     "output_type": "execute_result"
    }
   ],
   "source": [
    "len(df3)"
   ]
  },
  {
   "cell_type": "code",
   "execution_count": 16,
   "metadata": {},
   "outputs": [
    {
     "data": {
      "text/plain": [
       "False"
      ]
     },
     "execution_count": 16,
     "metadata": {},
     "output_type": "execute_result"
    }
   ],
   "source": [
    "#check for duplicates\n",
    "df3.duplicated().any()"
   ]
  },
  {
   "cell_type": "code",
   "execution_count": 17,
   "metadata": {},
   "outputs": [],
   "source": [
    "# Remove rows with NaN values\n",
    "df3.dropna(inplace=True)"
   ]
  },
  {
   "cell_type": "code",
   "execution_count": 18,
   "metadata": {},
   "outputs": [],
   "source": [
    "# Remove rows where the country name includes the word \"world\"\n",
    "df3 = df3[~df3['country'].str.contains(r'world', case=False, regex=True)]"
   ]
  },
  {
   "cell_type": "markdown",
   "metadata": {},
   "source": [
    "## Setup Data Frame"
   ]
  },
  {
   "cell_type": "markdown",
   "metadata": {},
   "source": [
    "### Categorize countries: Add a column to categorize countries into Global North and Global South."
   ]
  },
  {
   "cell_type": "code",
   "execution_count": 19,
   "metadata": {},
   "outputs": [
    {
     "name": "stderr",
     "output_type": "stream",
     "text": [
      "/tmp/ipykernel_127520/2951242910.py:10: SettingWithCopyWarning: \n",
      "A value is trying to be set on a copy of a slice from a DataFrame.\n",
      "Try using .loc[row_indexer,col_indexer] = value instead\n",
      "\n",
      "See the caveats in the documentation: https://pandas.pydata.org/pandas-docs/stable/user_guide/indexing.html#returning-a-view-versus-a-copy\n",
      "  df3['region'] = np.where(df3['country'].isin(global_north), 'Global_North', 'Global_South')\n"
     ]
    }
   ],
   "source": [
    "# Categorize countries into Global North and Global South\n",
    "\n",
    "global_north = [\n",
    "    'United States', 'Canada', 'United Kingdom', 'Germany', 'France', \n",
    "    'Italy', 'Japan', 'Australia', 'New Zealand', 'Belgium', 'Netherlands',\n",
    "    'Sweden', 'Norway', 'Denmark', 'Finland', 'Switzerland', 'Austria', \n",
    "    'Ireland', 'Luxembourg'\n",
    "]\n",
    "\n",
    "df3['region'] = np.where(df3['country'].isin(global_north), 'Global_North', 'Global_South')"
   ]
  },
  {
   "cell_type": "code",
   "execution_count": 20,
   "metadata": {},
   "outputs": [
    {
     "name": "stderr",
     "output_type": "stream",
     "text": [
      "/tmp/ipykernel_127520/2676915888.py:9: SettingWithCopyWarning: \n",
      "A value is trying to be set on a copy of a slice from a DataFrame.\n",
      "Try using .loc[row_indexer,col_indexer] = value instead\n",
      "\n",
      "See the caveats in the documentation: https://pandas.pydata.org/pandas-docs/stable/user_guide/indexing.html#returning-a-view-versus-a-copy\n",
      "  df3['development_level'] = np.where(df3['country'].isin(developed_countries), 'Developed', 'Developing')\n"
     ]
    }
   ],
   "source": [
    "# Categorize countries into Developed and Developing Countries\n",
    "\n",
    "developed_countries = [ 'Andorra', 'Australia', 'Austria', 'Belgium', 'Canada', 'Denmark', \n",
    "    'Finland', 'France', 'Germany', 'Greece', 'Iceland', 'Ireland', 'Israel', 'Italy', 'Japan', \n",
    "    'Luxembourg', 'Monaco', 'Netherlands', 'New Zealand', 'Norway', 'Portugal', 'San Marino', \n",
    "    'Singapore', 'South Korea', 'Spain', 'Sweden', 'Switzerland', 'United Kingdom', 'United States' ]\n",
    "\n",
    "\n",
    "df3['development_level'] = np.where(df3['country'].isin(developed_countries), 'Developed', 'Developing')"
   ]
  },
  {
   "cell_type": "code",
   "execution_count": 21,
   "metadata": {},
   "outputs": [
    {
     "name": "stderr",
     "output_type": "stream",
     "text": [
      "/tmp/ipykernel_127520/109064394.py:2: SettingWithCopyWarning: \n",
      "A value is trying to be set on a copy of a slice from a DataFrame.\n",
      "Try using .loc[row_indexer,col_indexer] = value instead\n",
      "\n",
      "See the caveats in the documentation: https://pandas.pydata.org/pandas-docs/stable/user_guide/indexing.html#returning-a-view-versus-a-copy\n",
      "  df3['decade'] = (df3['year'] // 10) * 10\n"
     ]
    }
   ],
   "source": [
    "# Create a Decade Column\n",
    "df3['decade'] = (df3['year'] // 10) * 10"
   ]
  },
  {
   "cell_type": "markdown",
   "metadata": {},
   "source": [
    "# Save the code"
   ]
  },
  {
   "cell_type": "code",
   "execution_count": 22,
   "metadata": {},
   "outputs": [],
   "source": [
    "# save the cleaned data to a new CSV file\n",
    "df3.to_csv('../Data/Clean Data/3. Complete_Data_Merged.csv', index=False)"
   ]
  },
  {
   "cell_type": "code",
   "execution_count": 23,
   "metadata": {},
   "outputs": [
    {
     "data": {
      "text/html": [
       "<div>\n",
       "<style scoped>\n",
       "    .dataframe tbody tr th:only-of-type {\n",
       "        vertical-align: middle;\n",
       "    }\n",
       "\n",
       "    .dataframe tbody tr th {\n",
       "        vertical-align: top;\n",
       "    }\n",
       "\n",
       "    .dataframe thead th {\n",
       "        text-align: right;\n",
       "    }\n",
       "</style>\n",
       "<table border=\"1\" class=\"dataframe\">\n",
       "  <thead>\n",
       "    <tr style=\"text-align: right;\">\n",
       "      <th></th>\n",
       "      <th>country</th>\n",
       "      <th>year</th>\n",
       "      <th>population</th>\n",
       "      <th>co2_emission</th>\n",
       "      <th>temperature_change</th>\n",
       "      <th>region</th>\n",
       "      <th>development_level</th>\n",
       "      <th>decade</th>\n",
       "    </tr>\n",
       "  </thead>\n",
       "  <tbody>\n",
       "    <tr>\n",
       "      <th>0</th>\n",
       "      <td>Afghanistan, Islamic Rep. of</td>\n",
       "      <td>1999</td>\n",
       "      <td>86867.0</td>\n",
       "      <td>810.407000</td>\n",
       "      <td>1.301</td>\n",
       "      <td>Global_South</td>\n",
       "      <td>Developing</td>\n",
       "      <td>1990</td>\n",
       "    </tr>\n",
       "    <tr>\n",
       "      <th>1</th>\n",
       "      <td>Albania</td>\n",
       "      <td>1999</td>\n",
       "      <td>391486231.0</td>\n",
       "      <td>351070.000000</td>\n",
       "      <td>0.722</td>\n",
       "      <td>Global_South</td>\n",
       "      <td>Developing</td>\n",
       "      <td>1990</td>\n",
       "    </tr>\n",
       "    <tr>\n",
       "      <th>2</th>\n",
       "      <td>Algeria</td>\n",
       "      <td>1999</td>\n",
       "      <td>19262847.0</td>\n",
       "      <td>810.000000</td>\n",
       "      <td>1.456</td>\n",
       "      <td>Global_South</td>\n",
       "      <td>Developing</td>\n",
       "      <td>1990</td>\n",
       "    </tr>\n",
       "    <tr>\n",
       "      <th>3</th>\n",
       "      <td>American Samoa</td>\n",
       "      <td>1999</td>\n",
       "      <td>262397030.0</td>\n",
       "      <td>133013.187487</td>\n",
       "      <td>0.243</td>\n",
       "      <td>Global_South</td>\n",
       "      <td>Developing</td>\n",
       "      <td>1990</td>\n",
       "    </tr>\n",
       "    <tr>\n",
       "      <th>4</th>\n",
       "      <td>Andorra</td>\n",
       "      <td>1999</td>\n",
       "      <td>15870753.0</td>\n",
       "      <td>17610.000000</td>\n",
       "      <td>1.020</td>\n",
       "      <td>Global_South</td>\n",
       "      <td>Developed</td>\n",
       "      <td>1990</td>\n",
       "    </tr>\n",
       "    <tr>\n",
       "      <th>...</th>\n",
       "      <td>...</td>\n",
       "      <td>...</td>\n",
       "      <td>...</td>\n",
       "      <td>...</td>\n",
       "      <td>...</td>\n",
       "      <td>...</td>\n",
       "      <td>...</td>\n",
       "      <td>...</td>\n",
       "    </tr>\n",
       "    <tr>\n",
       "      <th>4255</th>\n",
       "      <td>Wallis and Futuna Islands</td>\n",
       "      <td>2017</td>\n",
       "      <td>5612253.0</td>\n",
       "      <td>49139.999390</td>\n",
       "      <td>0.960</td>\n",
       "      <td>Global_South</td>\n",
       "      <td>Developing</td>\n",
       "      <td>2010</td>\n",
       "    </tr>\n",
       "    <tr>\n",
       "      <th>4256</th>\n",
       "      <td>Palestine</td>\n",
       "      <td>2017</td>\n",
       "      <td>643634.0</td>\n",
       "      <td>349.999994</td>\n",
       "      <td>0.821</td>\n",
       "      <td>Global_South</td>\n",
       "      <td>Developing</td>\n",
       "      <td>2010</td>\n",
       "    </tr>\n",
       "    <tr>\n",
       "      <th>4257</th>\n",
       "      <td>Western Sahara</td>\n",
       "      <td>2017</td>\n",
       "      <td>7677565.0</td>\n",
       "      <td>939.999998</td>\n",
       "      <td>2.078</td>\n",
       "      <td>Global_South</td>\n",
       "      <td>Developing</td>\n",
       "      <td>2010</td>\n",
       "    </tr>\n",
       "    <tr>\n",
       "      <th>4259</th>\n",
       "      <td>Zambia</td>\n",
       "      <td>2017</td>\n",
       "      <td>14864221.0</td>\n",
       "      <td>660.000026</td>\n",
       "      <td>0.721</td>\n",
       "      <td>Global_South</td>\n",
       "      <td>Developing</td>\n",
       "      <td>2010</td>\n",
       "    </tr>\n",
       "    <tr>\n",
       "      <th>4260</th>\n",
       "      <td>Zimbabwe</td>\n",
       "      <td>2017</td>\n",
       "      <td>7020858.0</td>\n",
       "      <td>47340.000153</td>\n",
       "      <td>0.116</td>\n",
       "      <td>Global_South</td>\n",
       "      <td>Developing</td>\n",
       "      <td>2010</td>\n",
       "    </tr>\n",
       "  </tbody>\n",
       "</table>\n",
       "<p>4017 rows × 8 columns</p>\n",
       "</div>"
      ],
      "text/plain": [
       "                           country  year   population   co2_emission  \\\n",
       "0     Afghanistan, Islamic Rep. of  1999      86867.0     810.407000   \n",
       "1                          Albania  1999  391486231.0  351070.000000   \n",
       "2                          Algeria  1999   19262847.0     810.000000   \n",
       "3                   American Samoa  1999  262397030.0  133013.187487   \n",
       "4                          Andorra  1999   15870753.0   17610.000000   \n",
       "...                            ...   ...          ...            ...   \n",
       "4255     Wallis and Futuna Islands  2017    5612253.0   49139.999390   \n",
       "4256                     Palestine  2017     643634.0     349.999994   \n",
       "4257                Western Sahara  2017    7677565.0     939.999998   \n",
       "4259                        Zambia  2017   14864221.0     660.000026   \n",
       "4260                      Zimbabwe  2017    7020858.0   47340.000153   \n",
       "\n",
       "      temperature_change        region development_level  decade  \n",
       "0                  1.301  Global_South        Developing    1990  \n",
       "1                  0.722  Global_South        Developing    1990  \n",
       "2                  1.456  Global_South        Developing    1990  \n",
       "3                  0.243  Global_South        Developing    1990  \n",
       "4                  1.020  Global_South         Developed    1990  \n",
       "...                  ...           ...               ...     ...  \n",
       "4255               0.960  Global_South        Developing    2010  \n",
       "4256               0.821  Global_South        Developing    2010  \n",
       "4257               2.078  Global_South        Developing    2010  \n",
       "4259               0.721  Global_South        Developing    2010  \n",
       "4260               0.116  Global_South        Developing    2010  \n",
       "\n",
       "[4017 rows x 8 columns]"
      ]
     },
     "execution_count": 23,
     "metadata": {},
     "output_type": "execute_result"
    }
   ],
   "source": [
    "df3"
   ]
  },
  {
   "cell_type": "code",
   "execution_count": 24,
   "metadata": {},
   "outputs": [
    {
     "data": {
      "text/plain": [
       "country                object\n",
       "year                    int64\n",
       "population            float64\n",
       "co2_emission          float64\n",
       "temperature_change    float64\n",
       "region                 object\n",
       "development_level      object\n",
       "decade                  int64\n",
       "dtype: object"
      ]
     },
     "execution_count": 24,
     "metadata": {},
     "output_type": "execute_result"
    }
   ],
   "source": [
    "df3.dtypes"
   ]
  }
 ],
 "metadata": {
  "kernelspec": {
   "display_name": "base",
   "language": "python",
   "name": "python3"
  },
  "language_info": {
   "codemirror_mode": {
    "name": "ipython",
    "version": 3
   },
   "file_extension": ".py",
   "mimetype": "text/x-python",
   "name": "python",
   "nbconvert_exporter": "python",
   "pygments_lexer": "ipython3",
   "version": "3.11.7"
  }
 },
 "nbformat": 4,
 "nbformat_minor": 2
}
